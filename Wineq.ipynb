{
 "cells": [
  {
   "cell_type": "code",
   "execution_count": 4,
   "id": "8c35021b-3a7a-4b46-8fd4-00a2ddd0ce08",
   "metadata": {},
   "outputs": [],
   "source": [
    "import pandas as pd\n",
    "from sklearn.model_selection import train_test_split\n",
    "from sklearn.tree import DecisionTreeClassifier\n",
    "from sklearn.metrics import accuracy_score, classification_report"
   ]
  },
  {
   "cell_type": "code",
   "execution_count": 2,
   "id": "7347d000-6ad9-49a7-b997-e3e62c5e3e0d",
   "metadata": {},
   "outputs": [
    {
     "data": {
      "text/plain": [
       "'C:\\\\Users\\\\Haro\\\\Regresion Lineal'"
      ]
     },
     "execution_count": 2,
     "metadata": {},
     "output_type": "execute_result"
    }
   ],
   "source": [
    "pwd"
   ]
  },
  {
   "cell_type": "code",
   "execution_count": 3,
   "id": "fd95c33b-9338-4fe8-a97d-bab7bafd0db2",
   "metadata": {},
   "outputs": [],
   "source": [
    "Datos = pd.read_csv(r'C:\\Users\\Haro\\Regresion Lineal\\WineQuality\\winequality-red.csv')"
   ]
  },
  {
   "cell_type": "code",
   "execution_count": 5,
   "id": "1cbb788a-0b57-48ec-a170-a76d871ebff6",
   "metadata": {},
   "outputs": [
    {
     "name": "stdout",
     "output_type": "stream",
     "text": [
      "     fixed acidity  volatile acidity  citric acid  residual sugar  chlorides  \\\n",
      "0              7.4             0.700         0.00             1.9      0.076   \n",
      "1              7.8             0.880         0.00             2.6      0.098   \n",
      "2              7.8             0.760         0.04             2.3      0.092   \n",
      "3             11.2             0.280         0.56             1.9      0.075   \n",
      "4              7.4             0.700         0.00             1.9      0.076   \n",
      "..             ...               ...          ...             ...        ...   \n",
      "595            8.9             0.595         0.41             7.9      0.086   \n",
      "596           12.4             0.400         0.51             2.0      0.059   \n",
      "597           11.9             0.580         0.58             1.9      0.071   \n",
      "598            8.5             0.585         0.18             2.1      0.078   \n",
      "599           12.7             0.590         0.45             2.3      0.082   \n",
      "\n",
      "     free sulfur dioxide  total sulfur dioxide  density    pH  sulphates  \\\n",
      "0                   11.0                  34.0   0.9978  3.51       0.56   \n",
      "1                   25.0                  67.0   0.9968  3.20       0.68   \n",
      "2                   15.0                  54.0   0.9970  3.26       0.65   \n",
      "3                   17.0                  60.0   0.9980  3.16       0.58   \n",
      "4                   11.0                  34.0   0.9978  3.51       0.56   \n",
      "..                   ...                   ...      ...   ...        ...   \n",
      "595                 30.0                 109.0   0.9998  3.27       0.57   \n",
      "596                  6.0                  24.0   0.9994  3.04       0.60   \n",
      "597                  5.0                  18.0   0.9980  3.09       0.63   \n",
      "598                  5.0                  30.0   0.9967  3.20       0.48   \n",
      "599                 11.0                  22.0   1.0000  3.00       0.70   \n",
      "\n",
      "     alcohol  quality  \n",
      "0        9.4        5  \n",
      "1        9.8        5  \n",
      "2        9.8        5  \n",
      "3        9.8        6  \n",
      "4        9.4        5  \n",
      "..       ...      ...  \n",
      "595      9.3        5  \n",
      "596      9.3        6  \n",
      "597     10.0        6  \n",
      "598      9.8        6  \n",
      "599      9.3        6  \n",
      "\n",
      "[600 rows x 12 columns]\n"
     ]
    }
   ],
   "source": [
    "print(Datos.head(600))"
   ]
  },
  {
   "cell_type": "code",
   "execution_count": 6,
   "id": "28d9deeb-573d-4e80-9139-6e1c7487b799",
   "metadata": {},
   "outputs": [
    {
     "name": "stdout",
     "output_type": "stream",
     "text": [
      "       fixed acidity  volatile acidity  citric acid  residual sugar  \\\n",
      "count    1599.000000       1599.000000  1599.000000     1599.000000   \n",
      "mean        8.319637          0.527821     0.270976        2.538806   \n",
      "std         1.741096          0.179060     0.194801        1.409928   \n",
      "min         4.600000          0.120000     0.000000        0.900000   \n",
      "25%         7.100000          0.390000     0.090000        1.900000   \n",
      "50%         7.900000          0.520000     0.260000        2.200000   \n",
      "75%         9.200000          0.640000     0.420000        2.600000   \n",
      "max        15.900000          1.580000     1.000000       15.500000   \n",
      "\n",
      "         chlorides  free sulfur dioxide  total sulfur dioxide      density  \\\n",
      "count  1599.000000          1599.000000           1599.000000  1599.000000   \n",
      "mean      0.087467            15.874922             46.467792     0.996747   \n",
      "std       0.047065            10.460157             32.895324     0.001887   \n",
      "min       0.012000             1.000000              6.000000     0.990070   \n",
      "25%       0.070000             7.000000             22.000000     0.995600   \n",
      "50%       0.079000            14.000000             38.000000     0.996750   \n",
      "75%       0.090000            21.000000             62.000000     0.997835   \n",
      "max       0.611000            72.000000            289.000000     1.003690   \n",
      "\n",
      "                pH    sulphates      alcohol      quality  \n",
      "count  1599.000000  1599.000000  1599.000000  1599.000000  \n",
      "mean      3.311113     0.658149    10.422983     5.636023  \n",
      "std       0.154386     0.169507     1.065668     0.807569  \n",
      "min       2.740000     0.330000     8.400000     3.000000  \n",
      "25%       3.210000     0.550000     9.500000     5.000000  \n",
      "50%       3.310000     0.620000    10.200000     6.000000  \n",
      "75%       3.400000     0.730000    11.100000     6.000000  \n",
      "max       4.010000     2.000000    14.900000     8.000000  \n"
     ]
    }
   ],
   "source": [
    "descripcion = Datos.describe()\n",
    "print(descripcion)"
   ]
  }
 ],
 "metadata": {
  "kernelspec": {
   "display_name": "Python 3 (ipykernel)",
   "language": "python",
   "name": "python3"
  },
  "language_info": {
   "codemirror_mode": {
    "name": "ipython",
    "version": 3
   },
   "file_extension": ".py",
   "mimetype": "text/x-python",
   "name": "python",
   "nbconvert_exporter": "python",
   "pygments_lexer": "ipython3",
   "version": "3.11.7"
  }
 },
 "nbformat": 4,
 "nbformat_minor": 5
}
